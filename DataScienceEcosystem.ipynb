{
 "cells": [
  {
   "cell_type": "markdown",
   "id": "d3a3b255-e402-4ae6-ac6f-6573ac64e8fa",
   "metadata": {},
   "source": [
    "# Herramientas y ecosistema de ciencia de datos "
   ]
  },
  {
   "cell_type": "markdown",
   "id": "9be74cf0-c2d5-45af-9d3a-72c864a74c08",
   "metadata": {},
   "source": [
    "En este cuaderno, se resumen las herramientas y el ecosistema de ciencia de datos.\n"
   ]
  },
  {
   "cell_type": "markdown",
   "id": "181cab34-4e7c-406c-a72f-600b30a0b094",
   "metadata": {},
   "source": [
    "Algunos de los lenguajes populares que usan los científicos de datos son:\n",
    "\n",
    "1. Python\n",
    "2. R\n",
    "3. SQL\n",
    "4. Java \n"
   ]
  },
  {
   "cell_type": "markdown",
   "id": "cbb36eca-aa0e-4fa6-9782-0daf5d657e03",
   "metadata": {},
   "source": [
    "Algunas de las bibliotecas comúnmente usadas por los científicos de datos incluyen:\n",
    "\n",
    "1. Pandas\n",
    "2. NumPy\n",
    "3. Matplotlib\n",
    "4. Scikit-learn\n"
   ]
  },
  {
   "cell_type": "markdown",
   "id": "72a697d8-a652-492e-98ea-6d9ef16ebc1f",
   "metadata": {},
   "source": [
    "| Herramientas de ciencia de datos |\n",
    "|----------------------------------|\n",
    "| Jupyter Notebook                 |\n",
    "| RStudio                          |\n",
    "| Apache Zeppelin                  |\n"
   ]
  },
  {
   "cell_type": "markdown",
   "id": "46e75200-63d8-4009-82a9-0fec10b8b6e7",
   "metadata": {},
   "source": [
    "### A continuacion, se muestran algunos ejemplos de evaluaciones aritmeticas en Python. "
   ]
  },
  {
   "cell_type": "code",
   "execution_count": 1,
   "id": "52430c44-f3d1-4f98-8088-8e5f37526a9d",
   "metadata": {},
   "outputs": [
    {
     "data": {
      "text/plain": [
       "17"
      ]
     },
     "execution_count": 1,
     "metadata": {},
     "output_type": "execute_result"
    }
   ],
   "source": [
    "# Esta es una expresión aritmética simple para multiplicar y luego sumar números enteros.\n",
    "(3 * 4) + 5\n"
   ]
  },
  {
   "cell_type": "code",
   "execution_count": 3,
   "id": "8d2899db-1d56-4df9-9b4b-ebe3d75cebbc",
   "metadata": {},
   "outputs": [
    {
     "data": {
      "text/plain": [
       "3.3333333333333335"
      ]
     },
     "execution_count": 3,
     "metadata": {},
     "output_type": "execute_result"
    }
   ],
   "source": [
    "# esto convertira 200 minutos en horas divididas en 60 minutos. \n",
    "200/60 "
   ]
  },
  {
   "cell_type": "markdown",
   "id": "8e72ad49-9863-41e0-b7d3-7a83949385b7",
   "metadata": {},
   "source": [
    "**Objetivos:**\n",
    "\n",
    "- Enumerar los lenguajes populares para la ciencia de datos.\n",
    "- Enumerar las bibliotecas más utilizadas.\n",
    "- Mostrar herramientas de ciencia de datos.\n",
    "- Evaluar expresiones aritméticas simples.\n",
    "- Convertir unidades de medida usando Python.\n"
   ]
  },
  {
   "cell_type": "markdown",
   "id": "14268cb4-dc65-4435-9899-2014c4f3d197",
   "metadata": {},
   "source": [
    "## Autor\n",
    "[Joel Gimenez]\n"
   ]
  }
 ],
 "metadata": {
  "kernelspec": {
   "display_name": "Python 3 (ipykernel)",
   "language": "python",
   "name": "python3"
  },
  "language_info": {
   "codemirror_mode": {
    "name": "ipython",
    "version": 3
   },
   "file_extension": ".py",
   "mimetype": "text/x-python",
   "name": "python",
   "nbconvert_exporter": "python",
   "pygments_lexer": "ipython3",
   "version": "3.11.9"
  }
 },
 "nbformat": 4,
 "nbformat_minor": 5
}
